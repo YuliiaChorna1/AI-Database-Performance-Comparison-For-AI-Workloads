{
 "cells": [
  {
   "cell_type": "markdown",
   "id": "2334b221",
   "metadata": {},
   "source": [
    "# Vector database comparison for AI Workloads: Elasticsearch vs. MongoDB Atlas Vector Search"
   ]
  },
  {
   "cell_type": "markdown",
   "id": "649f3271",
   "metadata": {},
   "source": [
    "While both MongoDB Atlas and Elasticsearch can store vector embeddings for AI applications, they serve fundamentally different purposes. This notebook explores multiple approaches to implementing vector search, compering their benefits and challenges:\n",
    "\n",
    "1. **Elasticsearch for Vector Search:**\n",
    "\n",
    "   Elasticsearch is primarely a search engine optimized for information retriaval and analitics. It efficiently handles vector embeddings to enable semantic search capabilities. In this notebook, we demonstrate how to implement vector search with Elasticsearch, highlighting its search optimizations capabilities\n",
    "\n",
    "2. **MongoDB Atlas for Unified AI Workloads:**\n",
    "\n",
    "   MongoDB Atlas is a fully-featured database with built-in vector search capabilities. As a true database, it offers ACID complience - ensuring Automicity, Consistency, Isolation and Durability - which is essential for production AI applicatios that require data reliability. We illustrate how to implement vector search using MongoDB Atlas, showcasting its ability to handle both vector search and traditional database operations within a unified system.\n",
    "\n",
    "3. **Split Architecture vs. Unified Architecture:**\n",
    "   - **Split Architecture:** In this approach, vector embeddings are stored in Elasticsearch to leverage its search capabilities, while metadata and other critical information are managed in MongoDB Atlas. This model allows you to utilize the strengths of both systems but produces challenges such as data synchronization and consistency between the two systems.\n",
    "   - **Unified Architecture:** Alternatively MongoDB Atlas can be used to handle both vector search and data storage in a single system. Thi sunified approach simplifies the architecture by eliminating cross-database synchronization issues, ensuring robust ACID compliance and streamlined operations for AI workloads."
   ]
  },
  {
   "cell_type": "markdown",
   "id": "8fb0ff74",
   "metadata": {},
   "source": [
    "## Table of Contents\n",
    "\n",
    "- **Part 1. Data Setup** - Installing libraries, setting up connections, preparing the dataset\n",
    "- **Part 2. Elasticsearch Implementation** - Setting up and using Elasticsearch for vector search\n",
    "- **Part 3. MongoDB Atlas Implementation** - "
   ]
  }
 ],
 "metadata": {
  "kernelspec": {
   "display_name": "Python 3",
   "language": "python",
   "name": "python3"
  },
  "language_info": {
   "name": "python",
   "version": "3.12.4"
  }
 },
 "nbformat": 4,
 "nbformat_minor": 5
}
